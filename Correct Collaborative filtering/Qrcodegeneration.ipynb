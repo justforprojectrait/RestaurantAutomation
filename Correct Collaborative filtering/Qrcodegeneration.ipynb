{
 "cells": [
  {
   "cell_type": "code",
   "execution_count": 6,
   "metadata": {},
   "outputs": [
    {
     "name": "stdout",
     "output_type": "stream",
     "text": [
      "<class 'qrcode.image.pil.PilImage'>\n",
      "(290, 290)\n"
     ]
    }
   ],
   "source": [
    "import qrcode\n",
    "\n",
    "img = qrcode.make('www.google.com')\n",
    "\n",
    "print(type(img))\n",
    "print(img.size)\n",
    "# <class 'qrcode.image.pil.PilImage'>\n",
    "# (290, 290)\n",
    "\n",
    "img.save('qrcode_test.png')"
   ]
  },
  {
   "cell_type": "code",
   "execution_count": null,
   "metadata": {},
   "outputs": [],
   "source": []
  }
 ],
 "metadata": {
  "kernelspec": {
   "display_name": "Python 3",
   "language": "python",
   "name": "python3"
  },
  "language_info": {
   "codemirror_mode": {
    "name": "ipython",
    "version": 3
   },
   "file_extension": ".py",
   "mimetype": "text/x-python",
   "name": "python",
   "nbconvert_exporter": "python",
   "pygments_lexer": "ipython3",
   "version": "3.7.3"
  }
 },
 "nbformat": 4,
 "nbformat_minor": 2
}
